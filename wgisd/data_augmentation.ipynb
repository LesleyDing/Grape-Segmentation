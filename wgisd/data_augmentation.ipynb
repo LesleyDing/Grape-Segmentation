{
 "cells": [
  {
   "cell_type": "code",
   "execution_count": 2,
   "metadata": {
    "colab": {
     "background_save": true,
     "base_uri": "https://localhost:8080/"
    },
    "collapsed": true,
    "executionInfo": {
     "elapsed": 6774,
     "status": "ok",
     "timestamp": 1608009914674,
     "user": {
      "displayName": "Ding Hanzhi",
      "photoUrl": "https://lh3.googleusercontent.com/a-/AOh14GjXS336brmrV_rYLXjX7Uhipyf5irPny0K59Wo8=s64",
      "userId": "01591919275787664025"
     },
     "user_tz": 480
    },
    "id": "FFY7TWMN4NJY"
   },
   "outputs": [
    {
     "name": "stdout",
     "output_type": "stream",
     "text": [
      "Collecting mxnet\n",
      "  Downloading https://files.pythonhosted.org/packages/81/f5/d79b5b40735086ff1100c680703e0f3efc830fa455e268e9e96f3c857e93/mxnet-1.6.0-py2.py3-none-any.whl (68.7MB)\n",
      "Collecting graphviz<0.9.0,>=0.8.1\n",
      "  Using cached https://files.pythonhosted.org/packages/53/39/4ab213673844e0c004bed8a0781a0721a3f6bb23eb8854ee75c236428892/graphviz-0.8.4-py2.py3-none-any.whl\n",
      "Requirement already satisfied: requests<3,>=2.20.0 in c:\\python27\\lib\\site-packages (from mxnet) (2.21.0)\n",
      "Collecting numpy<2.0.0,>1.16.0\n",
      "  Downloading https://files.pythonhosted.org/packages/0b/cc/9e84addc909c73d825fee5b69804da964552650b22dad92d23363fcac4e8/numpy-1.16.6-cp27-cp27m-win32.whl (10.0MB)\n",
      "Requirement already satisfied: idna<2.9,>=2.5 in c:\\python27\\lib\\site-packages (from requests<3,>=2.20.0->mxnet) (2.8)\n",
      "Requirement already satisfied: chardet<3.1.0,>=3.0.2 in c:\\python27\\lib\\site-packages (from requests<3,>=2.20.0->mxnet) (3.0.4)\n",
      "Requirement already satisfied: certifi>=2017.4.17 in c:\\python27\\lib\\site-packages (from requests<3,>=2.20.0->mxnet) (2018.11.29)\n",
      "Requirement already satisfied: urllib3<1.25,>=1.21.1 in c:\\python27\\lib\\site-packages (from requests<3,>=2.20.0->mxnet) (1.24.1)\n",
      "Installing collected packages: graphviz, numpy, mxnet\n",
      "  Found existing installation: numpy 1.15.4\n",
      "    Uninstalling numpy-1.15.4:\n",
      "      Successfully uninstalled numpy-1.15.4\n",
      "Successfully installed graphviz-0.8.4 mxnet-1.6.0 numpy-1.16.6\n"
     ]
    },
    {
     "name": "stderr",
     "output_type": "stream",
     "text": [
      "DEPRECATION: Python 2.7 will reach the end of its life on January 1st, 2020. Please upgrade your Python as Python 2.7 won't be maintained after that date. A future version of pip will drop support for Python 2.7. More details about Python 2 support in pip, can be found at https://pip.pypa.io/en/latest/development/release-process/#python-2-support\n",
      "WARNING: Retrying (Retry(total=4, connect=None, read=None, redirect=None, status=None)) after connection broken by 'SSLError(SSLEOFError(8, u'EOF occurred in violation of protocol (_ssl.c:661)'),)': /simple/mxnet/\n",
      "WARNING: You are using pip version 19.3.1; however, version 20.3.1 is available.\n",
      "You should consider upgrading via the 'python -m pip install --upgrade pip' command.\n"
     ]
    }
   ],
   "source": [
    "!pip install mxnet "
   ]
  },
  {
   "cell_type": "code",
   "execution_count": null,
   "metadata": {
    "colab": {
     "background_save": true,
     "base_uri": "https://localhost:8080/"
    },
    "executionInfo": {
     "elapsed": 9195,
     "status": "ok",
     "timestamp": 1608009917111,
     "user": {
      "displayName": "Ding Hanzhi",
      "photoUrl": "https://lh3.googleusercontent.com/a-/AOh14GjXS336brmrV_rYLXjX7Uhipyf5irPny0K59Wo8=s64",
      "userId": "01591919275787664025"
     },
     "user_tz": 480
    },
    "id": "nKcI2w-D4NJY"
   },
   "outputs": [],
   "source": [
    "!pip install opencv-python"
   ]
  },
  {
   "cell_type": "code",
   "execution_count": null,
   "metadata": {
    "colab": {
     "background_save": true
    },
    "executionInfo": {
     "elapsed": 9180,
     "status": "ok",
     "timestamp": 1608009917112,
     "user": {
      "displayName": "Ding Hanzhi",
      "photoUrl": "https://lh3.googleusercontent.com/a-/AOh14GjXS336brmrV_rYLXjX7Uhipyf5irPny0K59Wo8=s64",
      "userId": "01591919275787664025"
     },
     "user_tz": 480
    },
    "id": "bBwkiSCS4NJY"
   },
   "outputs": [],
   "source": [
    "from mxnet import autograd, gluon, image, init\n",
    "from mxnet.gluon import nn\n",
    "from mxnet.gluon.data.vision import transforms\n",
    "from matplotlib import pyplot as plt\n",
    "from shutil import copyfile\n",
    "import os\n",
    "import numpy as np\n",
    "import random"
   ]
  },
  {
   "cell_type": "code",
   "execution_count": null,
   "metadata": {
    "colab": {
     "background_save": true
    },
    "executionInfo": {
     "elapsed": 833,
     "status": "ok",
     "timestamp": 1608010247924,
     "user": {
      "displayName": "Ding Hanzhi",
      "photoUrl": "https://lh3.googleusercontent.com/a-/AOh14GjXS336brmrV_rYLXjX7Uhipyf5irPny0K59Wo8=s64",
      "userId": "01591919275787664025"
     },
     "user_tz": 480
    },
    "id": "mbFaOrYb4NJY"
   },
   "outputs": [],
   "source": [
    "from pathlib import Path\n",
    "try:\n",
    "    os.makedirs('train')\n",
    "except OSError as e:\n",
    "    pass\n",
    "\n",
    "train_list = open(\"./train_masked.txt\", \"r\").read().splitlines()"
   ]
  },
  {
   "cell_type": "code",
   "execution_count": 24,
   "metadata": {
    "colab": {
     "background_save": true
    },
    "executionInfo": {
     "elapsed": 1051,
     "status": "ok",
     "timestamp": 1608010242750,
     "user": {
      "displayName": "Ding Hanzhi",
      "photoUrl": "https://lh3.googleusercontent.com/a-/AOh14GjXS336brmrV_rYLXjX7Uhipyf5irPny0K59Wo8=s64",
      "userId": "01591919275787664025"
     },
     "user_tz": 480
    },
    "id": "7q7C2D4PTe1E"
   },
   "outputs": [],
   "source": [
    "def color_changer(img, mask):\n",
    "  # Color Jitters \n",
    "    color_brightness = transforms.RandomApply(transforms.RandomBrightness(0.25))\n",
    "    color_contrast = transforms.RandomApply(transforms.RandomContrast(0.25))\n",
    "    color_saturation = transforms.RandomApply(transforms.RandomSaturation(0.25))\n",
    "    color_hue = transforms.RandomApply(transforms.RandomHue(0.25))\n",
    "    # add noise\n",
    "    add_noise = transforms.RandomApply(transforms.RandomLighting(alpha=0.5))\n",
    "\n",
    "    color_aug = transforms.Compose([color_brightness, color_contrast, color_saturation, color_hue, add_noise])\n",
    "\n",
    "    return color_aug(img), mask"
   ]
  },
  {
   "cell_type": "code",
   "execution_count": 21,
   "metadata": {
    "colab": {
     "background_save": true
    },
    "executionInfo": {
     "elapsed": 9143,
     "status": "ok",
     "timestamp": 1608009917116,
     "user": {
      "displayName": "Ding Hanzhi",
      "photoUrl": "https://lh3.googleusercontent.com/a-/AOh14GjXS336brmrV_rYLXjX7Uhipyf5irPny0K59Wo8=s64",
      "userId": "01591919275787664025"
     },
     "user_tz": 480
    },
    "id": "XEXbVj2RZaCh"
   },
   "outputs": [],
   "source": [
    "def random_crop_flip(img, mask):\n",
    "    img = img.asnumpy()\n",
    "\n",
    "    ori_W = img.shape[1]\n",
    "    ori_H = img.shape[0]\n",
    "    new_W = int(ori_W/2)\n",
    "    new_H = int(ori_H/2)\n",
    "\n",
    "    crop_rot = random.randint(0,1)\n",
    "\n",
    "    # randomly apply random crop\n",
    "    if crop_rot == 1:\n",
    "        x = random.randint(0,new_W)\n",
    "        y = random.randint(0,new_H)\n",
    "        img = img[y:y+new_H, x:x+new_W]\n",
    "        mask = mask[y:y+new_H, x:x+new_W, :]\n",
    "\n",
    "    # randomly apply random rotate\n",
    "    else: \n",
    "        img = np.rot90(img)\n",
    "        mask = np.rot90(mask)\n",
    "        y = random.randint(0,ori_W-new_H)\n",
    "        x = random.randint(0,ori_H-new_W)\n",
    "        img = img[y:y+new_H, x:x+new_W]\n",
    "        mask = mask[y:y+new_H, x:x+new_W, :]\n",
    "\n",
    "    # randomly apply random flip\n",
    "    # if random.randint(0,1) == 1: \n",
    "    #    img = np.fliplr(img)\n",
    "    #    mask = np.fliplr(mask)\n",
    "\n",
    "    return img, mask"
   ]
  },
  {
   "cell_type": "code",
   "execution_count": 26,
   "metadata": {
    "colab": {
     "background_save": true
    },
    "executionInfo": {
     "elapsed": 1250440,
     "status": "ok",
     "timestamp": 1608011501183,
     "user": {
      "displayName": "Ding Hanzhi",
      "photoUrl": "https://lh3.googleusercontent.com/a-/AOh14GjXS336brmrV_rYLXjX7Uhipyf5irPny0K59Wo8=s64",
      "userId": "01591919275787664025"
     },
     "user_tz": 480
    },
    "id": "U-zH-plllj6_"
   },
   "outputs": [],
   "source": [
    "MAX_IDX = 4\n",
    "\n",
    "for dirname, dirnames, filenames in os.walk('.'):\n",
    "    if dirname == './data':\n",
    "        for img_shortname in train_list:\n",
    "            img_name = './data/' + img_shortname + '.jpg'\n",
    "            npz_name = './data/' + img_shortname + '.npz'\n",
    "\n",
    "        for idx in range(MAX_IDX):\n",
    "            # load image and mask\n",
    "            img = image.imread(img_name)\n",
    "            mask = np.load(npz_name)['arr_0']\n",
    "\n",
    "            img, mask = color_changer(img, mask)\n",
    "            img, mask = random_crop_flip(img, mask)\n",
    "\n",
    "            new_name = './train/' + img_shortname + '_' + str(idx) + '.jpg'\n",
    "            plt.imsave(new_name, img)\n",
    "            new_npz_name = './train/' + img_shortname + '_' + str(idx)\n",
    "            np.savez_compressed(new_npz_name, mask)"
   ]
  },
  {
   "cell_type": "code",
   "execution_count": 27,
   "metadata": {
    "colab": {
     "background_save": true
    },
    "executionInfo": {
     "elapsed": 3700,
     "status": "ok",
     "timestamp": 1608011504886,
     "user": {
      "displayName": "Ding Hanzhi",
      "photoUrl": "https://lh3.googleusercontent.com/a-/AOh14GjXS336brmrV_rYLXjX7Uhipyf5irPny0K59Wo8=s64",
      "userId": "01591919275787664025"
     },
     "user_tz": 480
    },
    "id": "w3_dZJ7CvkF1"
   },
   "outputs": [],
   "source": [
    "for dirname, dirnames, filenames in os.walk('.'):\n",
    "    if dirname == './data':\n",
    "        for img_shortname in train_list:\n",
    "            if img_shortname:\n",
    "            # generate image \n",
    "            img_name = './data/' + img_shortname + '.jpg'\n",
    "            img_copy_name = './train/' + img_shortname + '.jpg'\n",
    "            copyfile(img_name, img_copy_name)\n",
    "\n",
    "            npz_name = './data/' + img_shortname + '.npz'\n",
    "            npz_copy_name = './train/' + img_shortname + '.npz'\n",
    "            copyfile(npz_name, npz_copy_name)"
   ]
  },
  {
   "cell_type": "markdown",
   "metadata": {
    "id": "u8PVWbVMqvXl"
   },
   "source": [
    "# Move the testing set to \"test\" directory\n",
    "\n",
    "\n",
    "\n",
    "\n",
    "\n",
    "\n",
    "\n",
    "\n",
    "\n",
    "\n",
    "\n",
    "\n",
    "\n",
    "\n",
    "\n",
    "\n",
    "\n",
    "\n"
   ]
  },
  {
   "cell_type": "code",
   "execution_count": 28,
   "metadata": {
    "executionInfo": {
     "elapsed": 26396,
     "status": "ok",
     "timestamp": 1608011527598,
     "user": {
      "displayName": "Ding Hanzhi",
      "photoUrl": "https://lh3.googleusercontent.com/a-/AOh14GjXS336brmrV_rYLXjX7Uhipyf5irPny0K59Wo8=s64",
      "userId": "01591919275787664025"
     },
     "user_tz": 480
    },
    "id": "QeY6PC0hChxT"
   },
   "outputs": [],
   "source": [
    "try:\n",
    "    os.makedirs('test')\n",
    "except OSError as e:\n",
    "    pass\n",
    "\n",
    "test_masked = open('test_masked.txt', 'r')\n",
    "test = test_masked.read()\n",
    "test_list = test.split(\"\\n\")\n",
    "\n",
    "\n",
    "for dirname, dirnames, filenames in os.walk('.'):\n",
    "    if dirname == './data':\n",
    "        for i in test_list:\n",
    "            if i:\n",
    "            # generate image \n",
    "            img_shortname = i\n",
    "            img_name = './data/' + img_shortname + '.jpg'\n",
    "            img_copy_name = './test/' + img_shortname + '.jpg'\n",
    "            copyfile(img_name, img_copy_name)\n",
    "\n",
    "            npz_name = './data/' + img_shortname + '.npz'\n",
    "            npz_copy_name = './test/' + img_shortname + '.npz'\n",
    "            copyfile(npz_name, npz_copy_name)\n"
   ]
  }
 ],
 "metadata": {
  "colab": {
   "collapsed_sections": [],
   "name": "crazy_data_augmentation.ipynb",
   "version": ""
  },
  "kernelspec": {
   "display_name": "Python 3",
   "language": "python",
   "name": "python3"
  },
  "language_info": {
   "codemirror_mode": {
    "name": "ipython",
    "version": 3
   },
   "file_extension": ".py",
   "mimetype": "text/x-python",
   "name": "python",
   "nbconvert_exporter": "python",
   "pygments_lexer": "ipython3",
   "version": "3.6.9"
  }
 },
 "nbformat": 4,
 "nbformat_minor": 1
}
